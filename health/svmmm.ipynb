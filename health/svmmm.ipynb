{
 "cells": [
  {
   "cell_type": "code",
   "execution_count": 46,
   "metadata": {},
   "outputs": [],
   "source": [
    "import numpy as np\n",
    "import pandas as pd\n",
    "import matplotlib.pyplot as plt\n",
    "import seaborn as sns\n",
    "from sklearn import svm\n",
    "from sklearn.model_selection import train_test_split\n",
    "from sklearn.metrics import accuracy_score\n",
    "from sklearn.metrics import confusion_matrix\n",
    "from sklearn.metrics import classification_report\n",
    "from sklearn.preprocessing import StandardScaler\n",
    "from sklearn.model_selection import cross_val_score\n",
    "from sklearn.model_selection import cross_val_predict\n",
    "from sklearn.model_selection import cross_validate\n",
    "from sklearn.model_selection import GridSearchCV\n",
    "from sklearn.model_selection import RandomizedSearchCV\n",
    "from sklearn.pipeline import make_pipeline\n",
    "from sklearn.ensemble import GradientBoostingClassifier"
   ]
  },
  {
   "cell_type": "code",
   "execution_count": 41,
   "metadata": {},
   "outputs": [],
   "source": [
    "from sklearn.feature_selection import RFE\n",
    "from sklearn.preprocessing import StandardScaler\n",
    "scaler = StandardScaler()\n"
   ]
  },
  {
   "cell_type": "code",
   "execution_count": 45,
   "metadata": {},
   "outputs": [
    {
     "data": {
      "text/html": [
       "<div>\n",
       "<style scoped>\n",
       "    .dataframe tbody tr th:only-of-type {\n",
       "        vertical-align: middle;\n",
       "    }\n",
       "\n",
       "    .dataframe tbody tr th {\n",
       "        vertical-align: top;\n",
       "    }\n",
       "\n",
       "    .dataframe thead th {\n",
       "        text-align: right;\n",
       "    }\n",
       "</style>\n",
       "<table border=\"1\" class=\"dataframe\">\n",
       "  <thead>\n",
       "    <tr style=\"text-align: right;\">\n",
       "      <th></th>\n",
       "      <th>age</th>\n",
       "      <th>sex</th>\n",
       "      <th>cp</th>\n",
       "      <th>trestbps</th>\n",
       "      <th>chol</th>\n",
       "      <th>fbs</th>\n",
       "      <th>restecg</th>\n",
       "      <th>thalach</th>\n",
       "      <th>exang</th>\n",
       "      <th>oldpeak</th>\n",
       "      <th>slope</th>\n",
       "      <th>ca</th>\n",
       "      <th>thal</th>\n",
       "      <th>target</th>\n",
       "    </tr>\n",
       "  </thead>\n",
       "  <tbody>\n",
       "    <tr>\n",
       "      <th>0</th>\n",
       "      <td>63</td>\n",
       "      <td>1</td>\n",
       "      <td>3</td>\n",
       "      <td>145</td>\n",
       "      <td>233</td>\n",
       "      <td>1</td>\n",
       "      <td>0</td>\n",
       "      <td>150</td>\n",
       "      <td>0</td>\n",
       "      <td>2.3</td>\n",
       "      <td>0</td>\n",
       "      <td>0</td>\n",
       "      <td>1</td>\n",
       "      <td>1</td>\n",
       "    </tr>\n",
       "    <tr>\n",
       "      <th>1</th>\n",
       "      <td>37</td>\n",
       "      <td>1</td>\n",
       "      <td>2</td>\n",
       "      <td>130</td>\n",
       "      <td>250</td>\n",
       "      <td>0</td>\n",
       "      <td>1</td>\n",
       "      <td>187</td>\n",
       "      <td>0</td>\n",
       "      <td>3.5</td>\n",
       "      <td>0</td>\n",
       "      <td>0</td>\n",
       "      <td>2</td>\n",
       "      <td>1</td>\n",
       "    </tr>\n",
       "    <tr>\n",
       "      <th>2</th>\n",
       "      <td>41</td>\n",
       "      <td>0</td>\n",
       "      <td>1</td>\n",
       "      <td>130</td>\n",
       "      <td>204</td>\n",
       "      <td>0</td>\n",
       "      <td>0</td>\n",
       "      <td>172</td>\n",
       "      <td>0</td>\n",
       "      <td>1.4</td>\n",
       "      <td>2</td>\n",
       "      <td>0</td>\n",
       "      <td>2</td>\n",
       "      <td>1</td>\n",
       "    </tr>\n",
       "    <tr>\n",
       "      <th>3</th>\n",
       "      <td>56</td>\n",
       "      <td>1</td>\n",
       "      <td>1</td>\n",
       "      <td>120</td>\n",
       "      <td>236</td>\n",
       "      <td>0</td>\n",
       "      <td>1</td>\n",
       "      <td>178</td>\n",
       "      <td>0</td>\n",
       "      <td>0.8</td>\n",
       "      <td>2</td>\n",
       "      <td>0</td>\n",
       "      <td>2</td>\n",
       "      <td>1</td>\n",
       "    </tr>\n",
       "    <tr>\n",
       "      <th>4</th>\n",
       "      <td>57</td>\n",
       "      <td>0</td>\n",
       "      <td>0</td>\n",
       "      <td>120</td>\n",
       "      <td>354</td>\n",
       "      <td>0</td>\n",
       "      <td>1</td>\n",
       "      <td>163</td>\n",
       "      <td>1</td>\n",
       "      <td>0.6</td>\n",
       "      <td>2</td>\n",
       "      <td>0</td>\n",
       "      <td>2</td>\n",
       "      <td>1</td>\n",
       "    </tr>\n",
       "  </tbody>\n",
       "</table>\n",
       "</div>"
      ],
      "text/plain": [
       "   age  sex  cp  trestbps  chol  fbs  restecg  thalach  exang  oldpeak  slope  \\\n",
       "0   63    1   3       145   233    1        0      150      0      2.3      0   \n",
       "1   37    1   2       130   250    0        1      187      0      3.5      0   \n",
       "2   41    0   1       130   204    0        0      172      0      1.4      2   \n",
       "3   56    1   1       120   236    0        1      178      0      0.8      2   \n",
       "4   57    0   0       120   354    0        1      163      1      0.6      2   \n",
       "\n",
       "   ca  thal  target  \n",
       "0   0     1       1  \n",
       "1   0     2       1  \n",
       "2   0     2       1  \n",
       "3   0     2       1  \n",
       "4   0     2       1  "
      ]
     },
     "execution_count": 45,
     "metadata": {},
     "output_type": "execute_result"
    }
   ],
   "source": [
    "df=pd.read_csv('/workspaces/ai_ml/health_ai/Health_data.csv', delimiter=',')\n",
    "df.head()"
   ]
  },
  {
   "cell_type": "code",
   "execution_count": null,
   "metadata": {},
   "outputs": [],
   "source": [
    "# Independent variables (features)\n",
    "X = df.drop('target', axis=1)\n",
    "X_scaled = scaler.fit_transform(X)\n",
    "# Dependent variable (target)\n",
    "y = df['target']\n"
   ]
  },
  {
   "cell_type": "code",
   "execution_count": null,
   "metadata": {},
   "outputs": [],
   "source": [
    "X_train, X_test, y_train, y_test = train_test_split(X_scaled, y, test_size=0.2, random_state=42)"
   ]
  },
  {
   "cell_type": "code",
   "execution_count": null,
   "metadata": {},
   "outputs": [
    {
     "name": "stdout",
     "output_type": "stream",
     "text": [
      "Fitting 5 folds for each of 12 candidates, totalling 60 fits\n",
      "[CV 1/5] END ....C=50, gamma=0.0001, kernel=rbf;, score=0.796 total time=   0.0s\n",
      "[CV 2/5] END ....C=50, gamma=0.0001, kernel=rbf;, score=0.857 total time=   0.0s\n",
      "[CV 3/5] END ....C=50, gamma=0.0001, kernel=rbf;, score=0.812 total time=   0.0s\n",
      "[CV 4/5] END ....C=50, gamma=0.0001, kernel=rbf;, score=0.771 total time=   0.0s\n",
      "[CV 5/5] END ....C=50, gamma=0.0001, kernel=rbf;, score=0.792 total time=   0.0s\n",
      "[CV 1/5] END .....C=50, gamma=1e-05, kernel=rbf;, score=0.571 total time=   0.0s\n",
      "[CV 2/5] END .....C=50, gamma=1e-05, kernel=rbf;, score=0.551 total time=   0.0s\n",
      "[CV 3/5] END .....C=50, gamma=1e-05, kernel=rbf;, score=0.583 total time=   0.0s\n",
      "[CV 4/5] END .....C=50, gamma=1e-05, kernel=rbf;, score=0.542 total time=   0.0s\n",
      "[CV 5/5] END .....C=50, gamma=1e-05, kernel=rbf;, score=0.542 total time=   0.0s\n",
      "[CV 1/5] END .....C=50, gamma=1e-07, kernel=rbf;, score=0.551 total time=   0.0s\n",
      "[CV 2/5] END .....C=50, gamma=1e-07, kernel=rbf;, score=0.551 total time=   0.0s\n",
      "[CV 3/5] END .....C=50, gamma=1e-07, kernel=rbf;, score=0.562 total time=   0.0s\n",
      "[CV 4/5] END .....C=50, gamma=1e-07, kernel=rbf;, score=0.542 total time=   0.0s\n",
      "[CV 5/5] END .....C=50, gamma=1e-07, kernel=rbf;, score=0.542 total time=   0.0s\n",
      "[CV 1/5] END ...C=100, gamma=0.0001, kernel=rbf;, score=0.735 total time=   0.0s\n",
      "[CV 2/5] END ...C=100, gamma=0.0001, kernel=rbf;, score=0.837 total time=   0.0s\n",
      "[CV 3/5] END ...C=100, gamma=0.0001, kernel=rbf;, score=0.812 total time=   0.0s\n",
      "[CV 4/5] END ...C=100, gamma=0.0001, kernel=rbf;, score=0.750 total time=   0.0s\n",
      "[CV 5/5] END ...C=100, gamma=0.0001, kernel=rbf;, score=0.750 total time=   0.0s\n",
      "[CV 1/5] END ....C=100, gamma=1e-05, kernel=rbf;, score=0.796 total time=   0.0s\n",
      "[CV 2/5] END ....C=100, gamma=1e-05, kernel=rbf;, score=0.776 total time=   0.0s\n",
      "[CV 3/5] END ....C=100, gamma=1e-05, kernel=rbf;, score=0.771 total time=   0.0s\n",
      "[CV 4/5] END ....C=100, gamma=1e-05, kernel=rbf;, score=0.750 total time=   0.0s\n",
      "[CV 5/5] END ....C=100, gamma=1e-05, kernel=rbf;, score=0.792 total time=   0.0s\n",
      "[CV 1/5] END ....C=100, gamma=1e-07, kernel=rbf;, score=0.551 total time=   0.0s\n",
      "[CV 2/5] END ....C=100, gamma=1e-07, kernel=rbf;, score=0.551 total time=   0.0s\n",
      "[CV 3/5] END ....C=100, gamma=1e-07, kernel=rbf;, score=0.562 total time=   0.0s\n",
      "[CV 4/5] END ....C=100, gamma=1e-07, kernel=rbf;, score=0.542 total time=   0.0s\n",
      "[CV 5/5] END ....C=100, gamma=1e-07, kernel=rbf;, score=0.542 total time=   0.0s\n",
      "[CV 1/5] END ...C=200, gamma=0.0001, kernel=rbf;, score=0.755 total time=   0.0s\n",
      "[CV 2/5] END ...C=200, gamma=0.0001, kernel=rbf;, score=0.837 total time=   0.0s\n",
      "[CV 3/5] END ...C=200, gamma=0.0001, kernel=rbf;, score=0.792 total time=   0.0s\n",
      "[CV 4/5] END ...C=200, gamma=0.0001, kernel=rbf;, score=0.792 total time=   0.0s\n",
      "[CV 5/5] END ...C=200, gamma=0.0001, kernel=rbf;, score=0.729 total time=   0.0s\n",
      "[CV 1/5] END ....C=200, gamma=1e-05, kernel=rbf;, score=0.776 total time=   0.0s\n",
      "[CV 2/5] END ....C=200, gamma=1e-05, kernel=rbf;, score=0.816 total time=   0.0s\n",
      "[CV 3/5] END ....C=200, gamma=1e-05, kernel=rbf;, score=0.792 total time=   0.0s\n",
      "[CV 4/5] END ....C=200, gamma=1e-05, kernel=rbf;, score=0.792 total time=   0.0s\n",
      "[CV 5/5] END ....C=200, gamma=1e-05, kernel=rbf;, score=0.833 total time=   0.0s\n",
      "[CV 1/5] END ....C=200, gamma=1e-07, kernel=rbf;, score=0.551 total time=   0.0s\n",
      "[CV 2/5] END ....C=200, gamma=1e-07, kernel=rbf;, score=0.551 total time=   0.0s\n",
      "[CV 3/5] END ....C=200, gamma=1e-07, kernel=rbf;, score=0.562 total time=   0.0s\n",
      "[CV 4/5] END ....C=200, gamma=1e-07, kernel=rbf;, score=0.542 total time=   0.0s\n",
      "[CV 5/5] END ....C=200, gamma=1e-07, kernel=rbf;, score=0.542 total time=   0.0s\n",
      "[CV 1/5] END ...C=400, gamma=0.0001, kernel=rbf;, score=0.776 total time=   0.0s\n",
      "[CV 2/5] END ...C=400, gamma=0.0001, kernel=rbf;, score=0.878 total time=   0.0s\n",
      "[CV 3/5] END ...C=400, gamma=0.0001, kernel=rbf;, score=0.812 total time=   0.0s\n",
      "[CV 4/5] END ...C=400, gamma=0.0001, kernel=rbf;, score=0.812 total time=   0.0s\n",
      "[CV 5/5] END ...C=400, gamma=0.0001, kernel=rbf;, score=0.750 total time=   0.0s\n",
      "[CV 1/5] END ....C=400, gamma=1e-05, kernel=rbf;, score=0.796 total time=   0.0s\n",
      "[CV 2/5] END ....C=400, gamma=1e-05, kernel=rbf;, score=0.837 total time=   0.0s\n",
      "[CV 3/5] END ....C=400, gamma=1e-05, kernel=rbf;, score=0.812 total time=   0.0s\n",
      "[CV 4/5] END ....C=400, gamma=1e-05, kernel=rbf;, score=0.771 total time=   0.0s\n",
      "[CV 5/5] END ....C=400, gamma=1e-05, kernel=rbf;, score=0.812 total time=   0.0s\n",
      "[CV 1/5] END ....C=400, gamma=1e-07, kernel=rbf;, score=0.551 total time=   0.0s\n",
      "[CV 2/5] END ....C=400, gamma=1e-07, kernel=rbf;, score=0.551 total time=   0.0s\n",
      "[CV 3/5] END ....C=400, gamma=1e-07, kernel=rbf;, score=0.562 total time=   0.0s\n",
      "[CV 4/5] END ....C=400, gamma=1e-07, kernel=rbf;, score=0.542 total time=   0.0s\n",
      "[CV 5/5] END ....C=400, gamma=1e-07, kernel=rbf;, score=0.542 total time=   0.0s\n",
      "{'C': 400, 'gamma': 1e-05, 'kernel': 'rbf'}\n",
      "Accuracy: 0.8852459016393442\n"
     ]
    }
   ],
   "source": [
    "\n",
    "# Define the parameter ranges\n",
    "param_grid = {'C': [50, 100, 200,400],'gamma': [0.0001,0.00001,0.0000001],'kernel': ['rbf']} \n",
    "\n",
    "# Create a GridSearchCV object\n",
    "grid = GridSearchCV(svm.SVC(), param_grid, refit=True, verbose=3, cv=5)\n",
    "\n",
    "# Fit the model to the data\n",
    "grid.fit(X_train, y_train)\n",
    "\n",
    "# Print the best parameters\n",
    "print(grid.best_params_)\n",
    "\n",
    "# Make predictions with the optimized model\n",
    "grid_predictions = grid.predict(X_test)\n",
    "\n",
    "# Print the accuracy\n",
    "print(\"Accuracy:\", accuracy_score(y_test, grid_predictions))"
   ]
  },
  {
   "cell_type": "code",
   "execution_count": null,
   "metadata": {},
   "outputs": [
    {
     "name": "stdout",
     "output_type": "stream",
     "text": [
      "Accuracy: 0.8852459016393442\n"
     ]
    }
   ],
   "source": [
    "# Get the best parameters\n",
    "best_params = grid.best_params_\n",
    "\n",
    "# Create a new SVC model with the best parameters\n",
    "best_model = svm.SVC(C=best_params['C'], gamma=best_params['gamma'], kernel=best_params['kernel'])\n",
    "\n",
    "# Fit the model to the training data\n",
    "best_model.fit(X_train, y_train)\n",
    "\n",
    "# Make predictions with the optimized model\n",
    "best_model_predictions = best_model.predict(X_test)\n",
    "\n",
    "# Print the accuracy\n",
    "print(\"Accuracy:\", accuracy_score(y_test, best_model_predictions))"
   ]
  },
  {
   "cell_type": "code",
   "execution_count": 44,
   "metadata": {},
   "outputs": [
    {
     "name": "stdout",
     "output_type": "stream",
     "text": [
      "Cross-validation scores: [0.81818182 0.79545455 0.88372093 0.76744186 0.79069767 0.72093023\n",
      " 0.76744186]\n",
      "Mean cross-validation score: 0.791981274539414\n"
     ]
    }
   ],
   "source": [
    "scores = cross_val_score(best_model, X, y, cv=7)\n",
    "\n",
    "# Print the scores\n",
    "print(\"Cross-validation scores:\", scores)\n",
    "\n",
    "# Print the mean score\n",
    "print(\"Mean cross-validation score:\", scores.mean())"
   ]
  },
  {
   "cell_type": "code",
   "execution_count": null,
   "metadata": {},
   "outputs": [
    {
     "data": {
      "image/png": "[encoded data removed]",
      "text/plain": [
       "<Figure size 640x480 with 2 Axes>"
      ]
     },
     "metadata": {},
     "output_type": "display_data"
    }
   ],
   "source": [
    "# Calculate the confusion matrix\n",
    "cm = confusion_matrix(y_test, grid_predictions)\n",
    "# Draw a heatmap with the confusion matrix\n",
    "sns.heatmap(cm, annot=True, fmt='d', cmap='coolwarm')\n",
    "plt.title('Confusion Matrix')\n",
    "plt.xlabel('Predicted')\n",
    "plt.ylabel('Actual')\n",
    "plt.show()"
   ]
  },
  {
   "cell_type": "code",
   "execution_count": 47,
   "metadata": {},
   "outputs": [
    {
     "name": "stdout",
     "output_type": "stream",
     "text": [
      "Accuracy: 0.8032786885245902\n"
     ]
    }
   ],
   "source": [
    "clf = GradientBoostingClassifier(n_estimators=100, learning_rate=1.0, max_depth=1, random_state=42)\n",
    "\n",
    "# Train the model\n",
    "clf.fit(X_train, y_train)\n",
    "\n",
    "# Make predictions\n",
    "y_pred = clf.predict(X_test)\n",
    "\n",
    "# Print the accuracy\n",
    "print(\"Accuracy:\", accuracy_score(y_test, y_pred))"
   ]
  },
  {
   "cell_type": "code",
   "execution_count": 52,
   "metadata": {},
   "outputs": [
    {
     "name": "stdout",
     "output_type": "stream",
     "text": [
      "Best parameters found:  {'n_estimators': 100, 'min_samples_split': 0.1, 'min_samples_leaf': 0.31818181818181823, 'max_depth': 8, 'learning_rate': 0.1}\n",
      "Best score found:  0.8265432098765432\n"
     ]
    }
   ],
   "source": [
    "\n",
    "# Define parameter grid\n",
    "param_distributions = {\n",
    "    \"learning_rate\": [0.01, 0.025, 0.05, 0.075, 0.1, 0.15, 0.2],\n",
    "    \"min_samples_split\": np.linspace(0.1, 0.5, 12),\n",
    "    \"min_samples_leaf\": np.linspace(0.1, 0.5, 12),\n",
    "    \"max_depth\":[3,5,8],\n",
    "    \"n_estimators\":[10, 100, 200]\n",
    "}\n",
    "\n",
    "# Create a GradientBoostingClassifier\n",
    "clf = GradientBoostingClassifier()\n",
    "\n",
    "random_search = RandomizedSearchCV(clf, param_distributions=param_distributions, n_iter=40, cv=3, random_state=42, n_jobs=-1)\n",
    "\n",
    "# Train the model with RandomizedSearchCV\n",
    "random_search.fit(X_train, y_train)\n",
    "\n",
    "print(\"Best parameters found: \", random_search.best_params_)\n"
   ]
  },
  {
   "cell_type": "code",
   "execution_count": 55,
   "metadata": {},
   "outputs": [
    {
     "name": "stdout",
     "output_type": "stream",
     "text": [
      "Accuracy:  0.8524590163934426\n"
     ]
    }
   ],
   "source": [
    "# Get the best parameters\n",
    "best_params = random_search.best_params_\n",
    "\n",
    "# Create a new GradientBoostingClassifier with the best parameters\n",
    "clf_best = GradientBoostingClassifier(**best_params)\n",
    "\n",
    "# Train the new model\n",
    "clf_best.fit(X_train, y_train)\n",
    "\n",
    "# Make predictions on the test set\n",
    "y_pred = clf_best.predict(X_test)\n",
    "\n",
    "# Calculate and print the accuracy\n",
    "accuracy = accuracy_score(y_test, y_pred)\n",
    "print(\"Accuracy: \", accuracy)"
   ]
  },
  {
   "cell_type": "code",
   "execution_count": 68,
   "metadata": {},
   "outputs": [
    {
     "name": "stdout",
     "output_type": "stream",
     "text": [
      "Epoch 1/10\n"
     ]
    },
    {
     "name": "stdout",
     "output_type": "stream",
     "text": [
      "\u001b[1m8/8\u001b[0m \u001b[32m━━━━━━━━━━━━━━━━━━━━\u001b[0m\u001b[37m\u001b[0m \u001b[1m1s\u001b[0m 1ms/step - accuracy: 0.7004 - loss: 0.5705  \n",
      "Epoch 2/10\n",
      "\u001b[1m8/8\u001b[0m \u001b[32m━━━━━━━━━━━━━━━━━━━━\u001b[0m\u001b[37m\u001b[0m \u001b[1m0s\u001b[0m 1ms/step - accuracy: 0.8020 - loss: 0.4866 \n",
      "Epoch 3/10\n",
      "\u001b[1m8/8\u001b[0m \u001b[32m━━━━━━━━━━━━━━━━━━━━\u001b[0m\u001b[37m\u001b[0m \u001b[1m0s\u001b[0m 1ms/step - accuracy: 0.7825 - loss: 0.4713 \n",
      "Epoch 4/10\n",
      "\u001b[1m8/8\u001b[0m \u001b[32m━━━━━━━━━━━━━━━━━━━━\u001b[0m\u001b[37m\u001b[0m \u001b[1m0s\u001b[0m 2ms/step - accuracy: 0.8057 - loss: 0.4261 \n",
      "Epoch 5/10\n",
      "\u001b[1m8/8\u001b[0m \u001b[32m━━━━━━━━━━━━━━━━━━━━\u001b[0m\u001b[37m\u001b[0m \u001b[1m0s\u001b[0m 1ms/step - accuracy: 0.8530 - loss: 0.3858 \n",
      "Epoch 6/10\n",
      "\u001b[1m8/8\u001b[0m \u001b[32m━━━━━━━━━━━━━━━━━━━━\u001b[0m\u001b[37m\u001b[0m \u001b[1m0s\u001b[0m 1ms/step - accuracy: 0.8247 - loss: 0.3808 \n",
      "Epoch 7/10\n",
      "\u001b[1m8/8\u001b[0m \u001b[32m━━━━━━━━━━━━━━━━━━━━\u001b[0m\u001b[37m\u001b[0m \u001b[1m0s\u001b[0m 1ms/step - accuracy: 0.8183 - loss: 0.3889 \n",
      "Epoch 8/10\n",
      "\u001b[1m8/8\u001b[0m \u001b[32m━━━━━━━━━━━━━━━━━━━━\u001b[0m\u001b[37m\u001b[0m \u001b[1m0s\u001b[0m 1ms/step - accuracy: 0.8503 - loss: 0.3577 \n",
      "Epoch 9/10\n",
      "\u001b[1m8/8\u001b[0m \u001b[32m━━━━━━━━━━━━━━━━━━━━\u001b[0m\u001b[37m\u001b[0m \u001b[1m0s\u001b[0m 1ms/step - accuracy: 0.8334 - loss: 0.3795 \n",
      "Epoch 10/10\n",
      "\u001b[1m8/8\u001b[0m \u001b[32m━━━━━━━━━━━━━━━━━━━━\u001b[0m\u001b[37m\u001b[0m \u001b[1m0s\u001b[0m 2ms/step - accuracy: 0.8638 - loss: 0.3635 \n",
      "\u001b[1m2/2\u001b[0m \u001b[32m━━━━━━━━━━━━━━━━━━━━\u001b[0m\u001b[37m\u001b[0m \u001b[1m0s\u001b[0m 3ms/step - accuracy: 0.8714 - loss: 0.3470  \n",
      "Accuracy:  0.8852459192276001\n"
     ]
    }
   ],
   "source": [
    "from tensorflow.keras.models import Sequential\n",
    "from tensorflow.keras.layers import Dense\n",
    "from tensorflow.keras.utils import to_categorical\n",
    "from tensorflow.keras.layers import Input\n",
    "# Convert labels to categorical one-hot encoding\n",
    "y_train_categorical = to_categorical(y_train)\n",
    "y_test_categorical = to_categorical(y_test)\n",
    "\n",
    "# Create a Sequential model\n",
    "model = Sequential()\n",
    "model.add(Input(shape=(X_train.shape[1],)))\n",
    "\n",
    "# Add the first layer with 32 nodes and 'relu' activation function\n",
    "model.add(Dense(32, activation='tanh', input_shape=(X_train.shape[1],)))\n",
    "\n",
    "# Add the second layer with 16 nodes and 'relu' activation function\n",
    "model.add(Dense(16, activation='tanh'))\n",
    "\n",
    "# Add the output layer with 'softmax' activation function\n",
    "model.add(Dense(y_train_categorical.shape[1], activation='softmax'))\n",
    "\n",
    "# Compile the model\n",
    "model.compile(optimizer='adam', loss='categorical_crossentropy', metrics=['accuracy'])\n",
    "\n",
    "# Train the model\n",
    "model.fit(X_train, y_train_categorical, epochs=10, batch_size=32)\n",
    "\n",
    "# Evaluate the model\n",
    "loss, accuracy = model.evaluate(X_test, y_test_categorical)\n",
    "print(\"Accuracy: \", accuracy)"
   ]
  }
 ],
 "metadata": {
  "kernelspec": {
   "display_name": "Python 3",
   "language": "python",
   "name": "python3"
  },
  "language_info": {
   "codemirror_mode": {
    "name": "ipython",
    "version": 3
   },
   "file_extension": ".py",
   "mimetype": "text/x-python",
   "name": "python",
   "nbconvert_exporter": "python",
   "pygments_lexer": "ipython3",
   "version": "3.10.13"
  }
 },
 "nbformat": 4,
 "nbformat_minor": 2
}
